{
 "cells": [
  {
   "cell_type": "markdown",
   "metadata": {},
   "source": [
    "# Diffie Helman\n",
    "\n",
    "Protocolo de troca de chaves, permite que dois interlocutores concordem com um valor de chave, apenas transmitindo informações públicas um para o outro, de forma que um atacante apenas observador, mesmo com acesso a todas as informações públicas, não consegue calcular a chave de sessão.\n",
    "\n",
    "## Funcionamento\n",
    "\n",
    "Escolhe-se p e g públicos (mais detalhes sobre seguranca na escolha depois)...\n",
    "\n",
    "Alice escolhe um número secreto a e bob um número secreto b...\n",
    "\n",
    "alice calcula:\n",
    "\n",
    "$$\n",
    "X_a = g^a \\ mod \\ p\n",
    "$$\n",
    "\n",
    "Bob calcula:\n",
    "\n",
    "$$\n",
    "X_b = g^b \\ mod \\ p\n",
    "$$\n",
    "\n",
    "$X_a$ e $X_b$ são enviados publicamente para bob e alice:\n",
    "\n",
    "Alice calcula:\n",
    "\n",
    "$$\n",
    "k_a = (X_b) ^ a \\ mod \\ p\n",
    "$$\n",
    "\n",
    "Bob calcula:\n",
    "\n",
    "$$\n",
    "k_b = (X_a) ^ b \\ mod \\ p\n",
    "$$\n",
    "\n",
    "Fácil ver que:\n",
    "\n",
    "$$\n",
    "k_a = k_b\n",
    "$$\n",
    "$$\n",
    "(X_a) ^ b \\ mod \\ p = (X_b) ^ a \\ mod \\ p\n",
    "$$\n",
    "$$\n",
    "(g^a \\ mod \\ p) ^ b \\ mod \\ p = (g^b \\ mod \\ p) ^ a \\ mod \\ p\n",
    "$$\n",
    "$$\n",
    "g^{ab} \\ mod \\ p = g^{ba} \\ mod \\ p\n",
    "$$\n"
   ]
  },
  {
   "cell_type": "markdown",
   "metadata": {},
   "source": [
    "## Segurança\n",
    "\n",
    "\n",
    "Para que o método seja seguro, precisamos que $ g^{ab} \\ mod \\ p $ tenha o maior número de saídas possíveis. Para isso, escolhemos $ g $ uma raíz primitiva de $ Z_p $ e escolhemos $ p $ um número primo, tal que todo $ n \\in Z_p $ seja co-primo a p. Para que seja seguro, hoje, o nist considera que p deve ter pelo menos 2048 bits"
   ]
  },
  {
   "cell_type": "markdown",
   "metadata": {},
   "source": [
    "## Raiz primitiva\n",
    "\n",
    "A raiz primitiva de $Z_n$ é um número $g$ tal que, para todo $a$, co-primo a $n$, exista um número $x$ tal que $ g^x \\ mod \\ n  = a $. Quando n é um número primo, todos os números $ x \\in Z_n$ são co-primos a ele...\n",
    "\n"
   ]
  },
  {
   "cell_type": "code",
   "execution_count": 9,
   "metadata": {},
   "outputs": [
    {
     "name": "stdout",
     "output_type": "stream",
     "text": [
      "[5]\n"
     ]
    }
   ],
   "source": [
    "from math import gcd\n",
    "\n",
    "\n",
    "def primRoots(modulo):\n",
    "    required_set = {num for num in range(1, modulo) if gcd(num, modulo) == 1}\n",
    "    return [g for g in range(1, modulo) if required_set == {pow(g, powers, modulo)\n",
    "            for powers in range(1, modulo)}]\n",
    "\n",
    "print(primRoots(6))\n"
   ]
  }
 ],
 "metadata": {
  "kernelspec": {
   "display_name": ".venv",
   "language": "python",
   "name": "python3"
  },
  "language_info": {
   "codemirror_mode": {
    "name": "ipython",
    "version": 3
   },
   "file_extension": ".py",
   "mimetype": "text/x-python",
   "name": "python",
   "nbconvert_exporter": "python",
   "pygments_lexer": "ipython3",
   "version": "3.10.12"
  }
 },
 "nbformat": 4,
 "nbformat_minor": 2
}
